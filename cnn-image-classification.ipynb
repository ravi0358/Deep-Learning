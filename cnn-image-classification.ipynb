{
 "cells": [
  {
   "cell_type": "code",
   "execution_count": 1,
   "metadata": {
    "_cell_guid": "b1076dfc-b9ad-4769-8c92-a6c4dae69d19",
    "_uuid": "8f2839f25d086af736a60e9eeb907d3b93b6e0e5",
    "execution": {
     "iopub.execute_input": "2021-02-17T16:28:15.156524Z",
     "iopub.status.busy": "2021-02-17T16:28:15.154550Z",
     "iopub.status.idle": "2021-02-17T16:28:15.169712Z",
     "shell.execute_reply": "2021-02-17T16:28:15.170475Z"
    },
    "papermill": {
     "duration": 0.02789,
     "end_time": "2021-02-17T16:28:15.170850",
     "exception": false,
     "start_time": "2021-02-17T16:28:15.142960",
     "status": "completed"
    },
    "tags": []
   },
   "outputs": [
    {
     "name": "stdout",
     "output_type": "stream",
     "text": [
      "/kaggle/input/dogs-vs-cats/test1.zip\n",
      "/kaggle/input/dogs-vs-cats/train.zip\n",
      "/kaggle/input/dogs-vs-cats/sampleSubmission.csv\n"
     ]
    }
   ],
   "source": [
    "# This Python 3 environment comes with many helpful analytics libraries installed\n",
    "# It is defined by the kaggle/python Docker image: https://github.com/kaggle/docker-python\n",
    "# For example, here's several helpful packages to load\n",
    "\n",
    "import numpy as np # linear algebra\n",
    "import pandas as pd # data processing, CSV file I/O (e.g. pd.read_csv)\n",
    "\n",
    "# Input data files are available in the read-only \"../input/\" directory\n",
    "# For example, running this (by clicking run or pressing Shift+Enter) will list all files under the input directory\n",
    "\n",
    "import os\n",
    "for dirname, _, filenames in os.walk('/kaggle/input'):\n",
    "    for filename in filenames:\n",
    "        print(os.path.join(dirname, filename))\n",
    "\n",
    "# You can write up to 20GB to the current directory (/kaggle/working/) that gets preserved as output when you create a version using \"Save & Run All\" \n",
    "# You can also write temporary files to /kaggle/temp/, but they won't be saved outside of the current session"
   ]
  },
  {
   "cell_type": "code",
   "execution_count": 2,
   "metadata": {
    "execution": {
     "iopub.execute_input": "2021-02-17T16:28:15.197977Z",
     "iopub.status.busy": "2021-02-17T16:28:15.197154Z",
     "iopub.status.idle": "2021-02-17T16:28:20.789321Z",
     "shell.execute_reply": "2021-02-17T16:28:20.789979Z"
    },
    "papermill": {
     "duration": 5.607931,
     "end_time": "2021-02-17T16:28:20.790184",
     "exception": false,
     "start_time": "2021-02-17T16:28:15.182253",
     "status": "completed"
    },
    "tags": []
   },
   "outputs": [
    {
     "name": "stdout",
     "output_type": "stream",
     "text": [
      "['dogs-vs-cats']\n"
     ]
    }
   ],
   "source": [
    "import numpy as np\n",
    "import pandas as pd \n",
    "from keras.preprocessing.image import ImageDataGenerator, load_img\n",
    "from keras.utils import to_categorical\n",
    "from sklearn.model_selection import train_test_split\n",
    "import matplotlib.pyplot as plt\n",
    "import random\n",
    "import os\n",
    "print(os.listdir(\"../input\"))"
   ]
  },
  {
   "cell_type": "code",
   "execution_count": 3,
   "metadata": {
    "execution": {
     "iopub.execute_input": "2021-02-17T16:28:20.809515Z",
     "iopub.status.busy": "2021-02-17T16:28:20.807717Z",
     "iopub.status.idle": "2021-02-17T16:28:20.810166Z",
     "shell.execute_reply": "2021-02-17T16:28:20.810682Z"
    },
    "papermill": {
     "duration": 0.01341,
     "end_time": "2021-02-17T16:28:20.810815",
     "exception": false,
     "start_time": "2021-02-17T16:28:20.797405",
     "status": "completed"
    },
    "tags": []
   },
   "outputs": [],
   "source": [
    "FAST_RUN = False\n",
    "IMAGE_WIDTH=128\n",
    "IMAGE_HEIGHT=128\n",
    "IMAGE_SIZE=(IMAGE_WIDTH, IMAGE_HEIGHT)\n",
    "IMAGE_CHANNELS=3"
   ]
  },
  {
   "cell_type": "code",
   "execution_count": 4,
   "metadata": {
    "execution": {
     "iopub.execute_input": "2021-02-17T16:28:20.827617Z",
     "iopub.status.busy": "2021-02-17T16:28:20.826863Z",
     "iopub.status.idle": "2021-02-17T16:28:44.128810Z",
     "shell.execute_reply": "2021-02-17T16:28:44.127660Z"
    },
    "papermill": {
     "duration": 23.31206,
     "end_time": "2021-02-17T16:28:44.128975",
     "exception": false,
     "start_time": "2021-02-17T16:28:20.816915",
     "status": "completed"
    },
    "tags": []
   },
   "outputs": [],
   "source": [
    "import zipfile\n",
    "with zipfile.ZipFile('../input/dogs-vs-cats/train.zip', 'r') as zip_ref:\n",
    "    zip_ref.extractall('./')\n",
    "with zipfile.ZipFile('../input/dogs-vs-cats/test1.zip', 'r') as zip_ref1:\n",
    "    zip_ref1.extractall('./')\n",
    "\n"
   ]
  },
  {
   "cell_type": "code",
   "execution_count": 5,
   "metadata": {
    "execution": {
     "iopub.execute_input": "2021-02-17T16:28:44.148775Z",
     "iopub.status.busy": "2021-02-17T16:28:44.147884Z",
     "iopub.status.idle": "2021-02-17T16:28:44.192976Z",
     "shell.execute_reply": "2021-02-17T16:28:44.192462Z"
    },
    "papermill": {
     "duration": 0.057163,
     "end_time": "2021-02-17T16:28:44.193116",
     "exception": false,
     "start_time": "2021-02-17T16:28:44.135953",
     "status": "completed"
    },
    "tags": []
   },
   "outputs": [],
   "source": [
    "filenames = os.listdir(\"./train\")\n",
    "categories = []\n",
    "for filename in filenames:\n",
    "    category = filename.split('.')[0]\n",
    "    if category == 'dog':\n",
    "        categories.append(1)\n",
    "    else:\n",
    "        categories.append(0)\n",
    "\n",
    "df = pd.DataFrame({\n",
    "    'filename': filenames,\n",
    "    'category': categories\n",
    "})"
   ]
  },
  {
   "cell_type": "code",
   "execution_count": 6,
   "metadata": {
    "execution": {
     "iopub.execute_input": "2021-02-17T16:28:44.367913Z",
     "iopub.status.busy": "2021-02-17T16:28:44.366789Z",
     "iopub.status.idle": "2021-02-17T16:28:44.376978Z",
     "shell.execute_reply": "2021-02-17T16:28:44.377567Z"
    },
    "papermill": {
     "duration": 0.177954,
     "end_time": "2021-02-17T16:28:44.377759",
     "exception": false,
     "start_time": "2021-02-17T16:28:44.199805",
     "status": "completed"
    },
    "tags": []
   },
   "outputs": [
    {
     "data": {
      "text/html": [
       "<div>\n",
       "<style scoped>\n",
       "    .dataframe tbody tr th:only-of-type {\n",
       "        vertical-align: middle;\n",
       "    }\n",
       "\n",
       "    .dataframe tbody tr th {\n",
       "        vertical-align: top;\n",
       "    }\n",
       "\n",
       "    .dataframe thead th {\n",
       "        text-align: right;\n",
       "    }\n",
       "</style>\n",
       "<table border=\"1\" class=\"dataframe\">\n",
       "  <thead>\n",
       "    <tr style=\"text-align: right;\">\n",
       "      <th></th>\n",
       "      <th>filename</th>\n",
       "      <th>category</th>\n",
       "    </tr>\n",
       "  </thead>\n",
       "  <tbody>\n",
       "    <tr>\n",
       "      <th>0</th>\n",
       "      <td>dog.6862.jpg</td>\n",
       "      <td>1</td>\n",
       "    </tr>\n",
       "    <tr>\n",
       "      <th>1</th>\n",
       "      <td>dog.2758.jpg</td>\n",
       "      <td>1</td>\n",
       "    </tr>\n",
       "    <tr>\n",
       "      <th>2</th>\n",
       "      <td>dog.11055.jpg</td>\n",
       "      <td>1</td>\n",
       "    </tr>\n",
       "    <tr>\n",
       "      <th>3</th>\n",
       "      <td>cat.1105.jpg</td>\n",
       "      <td>0</td>\n",
       "    </tr>\n",
       "    <tr>\n",
       "      <th>4</th>\n",
       "      <td>cat.7586.jpg</td>\n",
       "      <td>0</td>\n",
       "    </tr>\n",
       "    <tr>\n",
       "      <th>...</th>\n",
       "      <td>...</td>\n",
       "      <td>...</td>\n",
       "    </tr>\n",
       "    <tr>\n",
       "      <th>24995</th>\n",
       "      <td>cat.7793.jpg</td>\n",
       "      <td>0</td>\n",
       "    </tr>\n",
       "    <tr>\n",
       "      <th>24996</th>\n",
       "      <td>dog.1948.jpg</td>\n",
       "      <td>1</td>\n",
       "    </tr>\n",
       "    <tr>\n",
       "      <th>24997</th>\n",
       "      <td>dog.6432.jpg</td>\n",
       "      <td>1</td>\n",
       "    </tr>\n",
       "    <tr>\n",
       "      <th>24998</th>\n",
       "      <td>cat.1170.jpg</td>\n",
       "      <td>0</td>\n",
       "    </tr>\n",
       "    <tr>\n",
       "      <th>24999</th>\n",
       "      <td>cat.464.jpg</td>\n",
       "      <td>0</td>\n",
       "    </tr>\n",
       "  </tbody>\n",
       "</table>\n",
       "<p>25000 rows × 2 columns</p>\n",
       "</div>"
      ],
      "text/plain": [
       "            filename  category\n",
       "0       dog.6862.jpg         1\n",
       "1       dog.2758.jpg         1\n",
       "2      dog.11055.jpg         1\n",
       "3       cat.1105.jpg         0\n",
       "4       cat.7586.jpg         0\n",
       "...              ...       ...\n",
       "24995   cat.7793.jpg         0\n",
       "24996   dog.1948.jpg         1\n",
       "24997   dog.6432.jpg         1\n",
       "24998   cat.1170.jpg         0\n",
       "24999    cat.464.jpg         0\n",
       "\n",
       "[25000 rows x 2 columns]"
      ]
     },
     "execution_count": 6,
     "metadata": {},
     "output_type": "execute_result"
    }
   ],
   "source": [
    "df"
   ]
  },
  {
   "cell_type": "code",
   "execution_count": null,
   "metadata": {
    "papermill": {
     "duration": 0.008398,
     "end_time": "2021-02-17T16:28:44.394986",
     "exception": false,
     "start_time": "2021-02-17T16:28:44.386588",
     "status": "completed"
    },
    "tags": []
   },
   "outputs": [],
   "source": []
  }
 ],
 "metadata": {
  "kernelspec": {
   "display_name": "Python 3",
   "language": "python",
   "name": "python3"
  },
  "language_info": {
   "codemirror_mode": {
    "name": "ipython",
    "version": 3
   },
   "file_extension": ".py",
   "mimetype": "text/x-python",
   "name": "python",
   "nbconvert_exporter": "python",
   "pygments_lexer": "ipython3",
   "version": "3.7.9"
  },
  "papermill": {
   "default_parameters": {},
   "duration": 35.588219,
   "end_time": "2021-02-17T16:28:45.415162",
   "environment_variables": {},
   "exception": null,
   "input_path": "__notebook__.ipynb",
   "output_path": "__notebook__.ipynb",
   "parameters": {},
   "start_time": "2021-02-17T16:28:09.826943",
   "version": "2.2.2"
  }
 },
 "nbformat": 4,
 "nbformat_minor": 4
}
